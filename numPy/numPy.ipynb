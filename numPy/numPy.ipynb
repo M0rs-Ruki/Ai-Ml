{
 "cells": [
  {
   "cell_type": "markdown",
   "id": "a5d3c39b",
   "metadata": {},
   "source": [
    "## NumPy"
   ]
  },
  {
   "cell_type": "code",
   "execution_count": 219,
   "id": "9736aea0",
   "metadata": {},
   "outputs": [],
   "source": [
    "import numpy as np"
   ]
  },
  {
   "cell_type": "markdown",
   "id": "733e52f9",
   "metadata": {},
   "source": [
    "# DataType and Attributes"
   ]
  },
  {
   "cell_type": "markdown",
   "id": "f4d275fa",
   "metadata": {},
   "source": [
    "NumPy's main datatype is the ndarray (n-dimensional array).\n",
    "It is a grid of values, all of the same type, and is indexed by a tuple of nonnegative integers. \n",
    "The number of dimensions is the rank of the array; the shape of an array is a tuple of integers giving \n",
    "the size of the array along each dimension.\n"
   ]
  },
  {
   "cell_type": "code",
   "execution_count": 220,
   "id": "308f14ab",
   "metadata": {},
   "outputs": [
    {
     "data": {
      "text/plain": [
       "array([1, 2, 3])"
      ]
     },
     "execution_count": 220,
     "metadata": {},
     "output_type": "execute_result"
    }
   ],
   "source": [
    "a1 = np.array([1, 2, 3])\n",
    "a1"
   ]
  },
  {
   "cell_type": "code",
   "execution_count": 221,
   "id": "8979080c",
   "metadata": {},
   "outputs": [
    {
     "data": {
      "text/plain": [
       "(3,)"
      ]
     },
     "execution_count": 221,
     "metadata": {},
     "output_type": "execute_result"
    }
   ],
   "source": [
    "a1.shape"
   ]
  },
  {
   "cell_type": "code",
   "execution_count": 222,
   "id": "776e8479",
   "metadata": {},
   "outputs": [
    {
     "data": {
      "text/plain": [
       "dtype('int64')"
      ]
     },
     "execution_count": 222,
     "metadata": {},
     "output_type": "execute_result"
    }
   ],
   "source": [
    "a1.dtype"
   ]
  },
  {
   "cell_type": "code",
   "execution_count": 223,
   "id": "1e9a6e3b",
   "metadata": {},
   "outputs": [
    {
     "data": {
      "text/plain": [
       "numpy.ndarray"
      ]
     },
     "execution_count": 223,
     "metadata": {},
     "output_type": "execute_result"
    }
   ],
   "source": [
    "type(a1)"
   ]
  },
  {
   "cell_type": "code",
   "execution_count": 224,
   "id": "859a822f",
   "metadata": {},
   "outputs": [],
   "source": [
    "a2 = np.array([[1, 2.3, 3], [4, 5, 6]])\n",
    "\n",
    "a3 = np.array([[[1, 2, 3], [4, 5, 6]], [[7, 8, 9], [10, 11, 12]]])"
   ]
  },
  {
   "cell_type": "code",
   "execution_count": 225,
   "id": "5d4cfc74",
   "metadata": {},
   "outputs": [
    {
     "data": {
      "text/plain": [
       "array([[1. , 2.3, 3. ],\n",
       "       [4. , 5. , 6. ]])"
      ]
     },
     "execution_count": 225,
     "metadata": {},
     "output_type": "execute_result"
    }
   ],
   "source": [
    "a2"
   ]
  },
  {
   "cell_type": "code",
   "execution_count": 226,
   "id": "c53a52e5",
   "metadata": {},
   "outputs": [
    {
     "data": {
      "text/plain": [
       "array([[[ 1,  2,  3],\n",
       "        [ 4,  5,  6]],\n",
       "\n",
       "       [[ 7,  8,  9],\n",
       "        [10, 11, 12]]])"
      ]
     },
     "execution_count": 226,
     "metadata": {},
     "output_type": "execute_result"
    }
   ],
   "source": [
    "a3"
   ]
  },
  {
   "cell_type": "code",
   "execution_count": 227,
   "id": "f71f9703",
   "metadata": {},
   "outputs": [
    {
     "data": {
      "text/plain": [
       "(2, 3)"
      ]
     },
     "execution_count": 227,
     "metadata": {},
     "output_type": "execute_result"
    }
   ],
   "source": [
    "a2.shape"
   ]
  },
  {
   "cell_type": "code",
   "execution_count": 228,
   "id": "927ca380",
   "metadata": {},
   "outputs": [
    {
     "data": {
      "text/plain": [
       "(2, 2, 3)"
      ]
     },
     "execution_count": 228,
     "metadata": {},
     "output_type": "execute_result"
    }
   ],
   "source": [
    "a3.shape"
   ]
  },
  {
   "cell_type": "code",
   "execution_count": 229,
   "id": "29b3ba6c",
   "metadata": {},
   "outputs": [
    {
     "data": {
      "text/plain": [
       "(1, 2, 3)"
      ]
     },
     "execution_count": 229,
     "metadata": {},
     "output_type": "execute_result"
    }
   ],
   "source": [
    "a1.ndim, a2.ndim, a3.ndim"
   ]
  },
  {
   "cell_type": "code",
   "execution_count": 230,
   "id": "2b88177e",
   "metadata": {},
   "outputs": [
    {
     "data": {
      "text/plain": [
       "(dtype('int64'), dtype('float64'), dtype('int64'))"
      ]
     },
     "execution_count": 230,
     "metadata": {},
     "output_type": "execute_result"
    }
   ],
   "source": [
    "a1.dtype, a2.dtype, a3.dtype"
   ]
  },
  {
   "cell_type": "code",
   "execution_count": 231,
   "id": "3328bcf3",
   "metadata": {},
   "outputs": [
    {
     "data": {
      "text/plain": [
       "(3, 6, 12)"
      ]
     },
     "execution_count": 231,
     "metadata": {},
     "output_type": "execute_result"
    }
   ],
   "source": [
    "a1.size, a2.size, a3.size"
   ]
  },
  {
   "cell_type": "code",
   "execution_count": 232,
   "id": "e7c8e95c",
   "metadata": {},
   "outputs": [
    {
     "data": {
      "text/plain": [
       "(numpy.ndarray, numpy.ndarray, numpy.ndarray)"
      ]
     },
     "execution_count": 232,
     "metadata": {},
     "output_type": "execute_result"
    }
   ],
   "source": [
    "type(a1), type(a2), type(a3)"
   ]
  },
  {
   "cell_type": "markdown",
   "id": "b55e426e",
   "metadata": {},
   "source": [
    "# Create a DataFrame from NumPy arrays"
   ]
  },
  {
   "cell_type": "code",
   "execution_count": 233,
   "id": "4019413d",
   "metadata": {},
   "outputs": [
    {
     "data": {
      "text/html": [
       "<div>\n",
       "<style scoped>\n",
       "    .dataframe tbody tr th:only-of-type {\n",
       "        vertical-align: middle;\n",
       "    }\n",
       "\n",
       "    .dataframe tbody tr th {\n",
       "        vertical-align: top;\n",
       "    }\n",
       "\n",
       "    .dataframe thead th {\n",
       "        text-align: right;\n",
       "    }\n",
       "</style>\n",
       "<table border=\"1\" class=\"dataframe\">\n",
       "  <thead>\n",
       "    <tr style=\"text-align: right;\">\n",
       "      <th></th>\n",
       "      <th>0</th>\n",
       "      <th>1</th>\n",
       "      <th>2</th>\n",
       "    </tr>\n",
       "  </thead>\n",
       "  <tbody>\n",
       "    <tr>\n",
       "      <th>0</th>\n",
       "      <td>1.0</td>\n",
       "      <td>2.3</td>\n",
       "      <td>3.0</td>\n",
       "    </tr>\n",
       "    <tr>\n",
       "      <th>1</th>\n",
       "      <td>4.0</td>\n",
       "      <td>5.0</td>\n",
       "      <td>6.0</td>\n",
       "    </tr>\n",
       "  </tbody>\n",
       "</table>\n",
       "</div>"
      ],
      "text/plain": [
       "     0    1    2\n",
       "0  1.0  2.3  3.0\n",
       "1  4.0  5.0  6.0"
      ]
     },
     "execution_count": 233,
     "metadata": {},
     "output_type": "execute_result"
    }
   ],
   "source": [
    "import pandas as pd\n",
    "\n",
    "df = pd.DataFrame(a2)\n",
    "df"
   ]
  },
  {
   "cell_type": "markdown",
   "id": "736b8ca9",
   "metadata": {},
   "source": [
    "# 2. Creating Arrays"
   ]
  },
  {
   "cell_type": "code",
   "execution_count": 234,
   "id": "910bccd7",
   "metadata": {},
   "outputs": [
    {
     "data": {
      "text/plain": [
       "array([[1., 1., 1.],\n",
       "       [1., 1., 1.]])"
      ]
     },
     "execution_count": 234,
     "metadata": {},
     "output_type": "execute_result"
    }
   ],
   "source": [
    "ones = np.ones((2, 3))\n",
    "ones"
   ]
  },
  {
   "cell_type": "code",
   "execution_count": 235,
   "id": "2a9ca14f",
   "metadata": {},
   "outputs": [
    {
     "data": {
      "text/plain": [
       "(dtype('float64'), numpy.ndarray)"
      ]
     },
     "execution_count": 235,
     "metadata": {},
     "output_type": "execute_result"
    }
   ],
   "source": [
    "ones.dtype, type(ones)"
   ]
  },
  {
   "cell_type": "code",
   "execution_count": 236,
   "id": "3b11f620",
   "metadata": {},
   "outputs": [
    {
     "data": {
      "text/plain": [
       "array([[0., 0., 0., 0.],\n",
       "       [0., 0., 0., 0.],\n",
       "       [0., 0., 0., 0.]])"
      ]
     },
     "execution_count": 236,
     "metadata": {},
     "output_type": "execute_result"
    }
   ],
   "source": [
    "zeros = np.zeros((3, 4))\n",
    "zeros"
   ]
  },
  {
   "cell_type": "code",
   "execution_count": 237,
   "id": "bfacad2e",
   "metadata": {},
   "outputs": [
    {
     "data": {
      "text/plain": [
       "array([ 0,  5, 10, 15, 20, 25, 30, 35, 40, 45])"
      ]
     },
     "execution_count": 237,
     "metadata": {},
     "output_type": "execute_result"
    }
   ],
   "source": [
    "range_array = np.arange(0, 50, 5)\n",
    "range_array"
   ]
  },
  {
   "cell_type": "code",
   "execution_count": 238,
   "id": "0ff7ef3f",
   "metadata": {},
   "outputs": [
    {
     "data": {
      "text/plain": [
       "array([[4, 6, 8, 4, 6],\n",
       "       [9, 8, 5, 0, 2],\n",
       "       [3, 5, 3, 9, 6]])"
      ]
     },
     "execution_count": 238,
     "metadata": {},
     "output_type": "execute_result"
    }
   ],
   "source": [
    "random_array = np.random.randint(0, 10, size=(3, 5))\n",
    "random_array"
   ]
  },
  {
   "cell_type": "code",
   "execution_count": 239,
   "id": "95764e16",
   "metadata": {},
   "outputs": [
    {
     "data": {
      "text/plain": [
       "((3, 5), 15, 2)"
      ]
     },
     "execution_count": 239,
     "metadata": {},
     "output_type": "execute_result"
    }
   ],
   "source": [
    "random_array.shape, random_array.size, random_array.ndim"
   ]
  },
  {
   "cell_type": "code",
   "execution_count": 240,
   "id": "9cc2235a",
   "metadata": {},
   "outputs": [
    {
     "data": {
      "text/plain": [
       "array([[0.52929245, 0.56482311, 0.833549  ],\n",
       "       [0.06281332, 0.60636662, 0.50361274],\n",
       "       [0.16029869, 0.14544548, 0.63784086],\n",
       "       [0.88290614, 0.03286581, 0.4280219 ],\n",
       "       [0.87789307, 0.47650708, 0.36757054]])"
      ]
     },
     "execution_count": 240,
     "metadata": {},
     "output_type": "execute_result"
    }
   ],
   "source": [
    "random_array2 = np.random.random((5, 3))\n",
    "random_array2"
   ]
  },
  {
   "cell_type": "code",
   "execution_count": 241,
   "id": "31c50cd6",
   "metadata": {},
   "outputs": [
    {
     "data": {
      "text/plain": [
       "((5, 3), 15, 2)"
      ]
     },
     "execution_count": 241,
     "metadata": {},
     "output_type": "execute_result"
    }
   ],
   "source": [
    "random_array2.shape, random_array2.size, random_array2.ndim"
   ]
  },
  {
   "cell_type": "code",
   "execution_count": 242,
   "id": "8c923b3c",
   "metadata": {},
   "outputs": [
    {
     "data": {
      "text/plain": [
       "array([[0.24065025, 0.04823178],\n",
       "       [0.17516678, 0.55677543],\n",
       "       [0.53008548, 0.54422155],\n",
       "       [0.29905275, 0.86542403]])"
      ]
     },
     "execution_count": 242,
     "metadata": {},
     "output_type": "execute_result"
    }
   ],
   "source": [
    "random_array3 = np.random.rand(4, 2)\n",
    "random_array3"
   ]
  },
  {
   "cell_type": "code",
   "execution_count": 243,
   "id": "c1a09900",
   "metadata": {},
   "outputs": [
    {
     "data": {
      "text/plain": [
       "((4, 2), 8, 2)"
      ]
     },
     "execution_count": 243,
     "metadata": {},
     "output_type": "execute_result"
    }
   ],
   "source": [
    "random_array3.shape, random_array3.size, random_array3.ndim"
   ]
  },
  {
   "cell_type": "code",
   "execution_count": 244,
   "id": "51d0c26f",
   "metadata": {},
   "outputs": [],
   "source": [
    "# Pseudo Random numbers\n",
    "# np.random.seed()"
   ]
  },
  {
   "cell_type": "code",
   "execution_count": 245,
   "id": "c927475c",
   "metadata": {},
   "outputs": [
    {
     "data": {
      "text/plain": [
       "array([[5, 0, 3],\n",
       "       [3, 7, 9],\n",
       "       [3, 5, 2],\n",
       "       [4, 7, 6],\n",
       "       [8, 8, 1]])"
      ]
     },
     "execution_count": 245,
     "metadata": {},
     "output_type": "execute_result"
    }
   ],
   "source": [
    "np.random.seed(0)\n",
    "random_array4 = np.random.randint(10, size=(5, 3))\n",
    "random_array4"
   ]
  },
  {
   "cell_type": "code",
   "execution_count": 246,
   "id": "0a7d7fab",
   "metadata": {},
   "outputs": [
    {
     "data": {
      "text/plain": [
       "array([[0.8734294 , 0.96854066, 0.86919454, 0.53085569],\n",
       "       [0.23272833, 0.0113988 , 0.43046882, 0.40235136],\n",
       "       [0.52267467, 0.4783918 , 0.55535647, 0.54338602]])"
      ]
     },
     "execution_count": 246,
     "metadata": {},
     "output_type": "execute_result"
    }
   ],
   "source": [
    "np.random.seed(8)\n",
    "random_array5 = np.random.random((3, 4))\n",
    "random_array5"
   ]
  },
  {
   "cell_type": "markdown",
   "id": "07d453df",
   "metadata": {},
   "source": [
    "# 3.Viewing arrays and matrices"
   ]
  },
  {
   "cell_type": "code",
   "execution_count": 247,
   "id": "387cc956",
   "metadata": {},
   "outputs": [
    {
     "data": {
      "text/plain": [
       "array([[5, 0, 3],\n",
       "       [3, 7, 9],\n",
       "       [3, 5, 2],\n",
       "       [4, 7, 6],\n",
       "       [8, 8, 1]])"
      ]
     },
     "execution_count": 247,
     "metadata": {},
     "output_type": "execute_result"
    }
   ],
   "source": [
    "random_array4"
   ]
  },
  {
   "cell_type": "code",
   "execution_count": 248,
   "id": "14a8d3e4",
   "metadata": {},
   "outputs": [
    {
     "data": {
      "text/plain": [
       "array([0, 1, 2, 3, 4, 5, 6, 7, 8, 9])"
      ]
     },
     "execution_count": 248,
     "metadata": {},
     "output_type": "execute_result"
    }
   ],
   "source": [
    "np.unique(random_array4)"
   ]
  },
  {
   "cell_type": "code",
   "execution_count": 249,
   "id": "51197f43",
   "metadata": {},
   "outputs": [
    {
     "data": {
      "text/plain": [
       "array([1, 2, 3])"
      ]
     },
     "execution_count": 249,
     "metadata": {},
     "output_type": "execute_result"
    }
   ],
   "source": [
    "a1"
   ]
  },
  {
   "cell_type": "code",
   "execution_count": 250,
   "id": "104040dd",
   "metadata": {},
   "outputs": [
    {
     "data": {
      "text/plain": [
       "array([[1. , 2.3, 3. ],\n",
       "       [4. , 5. , 6. ]])"
      ]
     },
     "execution_count": 250,
     "metadata": {},
     "output_type": "execute_result"
    }
   ],
   "source": [
    "a2"
   ]
  },
  {
   "cell_type": "code",
   "execution_count": 251,
   "id": "f3027d67",
   "metadata": {},
   "outputs": [
    {
     "data": {
      "text/plain": [
       "array([[[ 1,  2,  3],\n",
       "        [ 4,  5,  6]],\n",
       "\n",
       "       [[ 7,  8,  9],\n",
       "        [10, 11, 12]]])"
      ]
     },
     "execution_count": 251,
     "metadata": {},
     "output_type": "execute_result"
    }
   ],
   "source": [
    "a3"
   ]
  },
  {
   "cell_type": "code",
   "execution_count": 252,
   "id": "5875fe2e",
   "metadata": {},
   "outputs": [
    {
     "data": {
      "text/plain": [
       "(np.int64(1),\n",
       " array([1. , 2.3, 3. ]),\n",
       " array([[1, 2, 3],\n",
       "        [4, 5, 6]]))"
      ]
     },
     "execution_count": 252,
     "metadata": {},
     "output_type": "execute_result"
    }
   ],
   "source": [
    "a1[0], a2[0], a3[0]"
   ]
  },
  {
   "cell_type": "code",
   "execution_count": 253,
   "id": "4b8ee28f",
   "metadata": {},
   "outputs": [
    {
     "data": {
      "text/plain": [
       "(array([[[ 1,  2,  3],\n",
       "         [ 4,  5,  6]],\n",
       " \n",
       "        [[ 7,  8,  9],\n",
       "         [10, 11, 12]]]),\n",
       " (2, 2, 3))"
      ]
     },
     "execution_count": 253,
     "metadata": {},
     "output_type": "execute_result"
    }
   ],
   "source": [
    "a3, a3.shape"
   ]
  },
  {
   "cell_type": "code",
   "execution_count": 254,
   "id": "52bc1e0e",
   "metadata": {},
   "outputs": [
    {
     "data": {
      "text/plain": [
       "array([[ 1,  4],\n",
       "       [ 7, 10]])"
      ]
     },
     "execution_count": 254,
     "metadata": {},
     "output_type": "execute_result"
    }
   ],
   "source": [
    "a3[:, :, 0]"
   ]
  },
  {
   "cell_type": "code",
   "execution_count": 255,
   "id": "711f4358",
   "metadata": {},
   "outputs": [
    {
     "data": {
      "text/plain": [
       "array([[[[2, 2, 6, 8, 9],\n",
       "         [3, 4, 5, 5, 7],\n",
       "         [9, 2, 6, 9, 5],\n",
       "         [1, 6, 4, 5, 8]],\n",
       "\n",
       "        [[0, 7, 2, 6, 7],\n",
       "         [4, 8, 9, 6, 4],\n",
       "         [5, 2, 2, 6, 6],\n",
       "         [6, 7, 9, 6, 0]],\n",
       "\n",
       "        [[9, 2, 7, 9, 2],\n",
       "         [6, 3, 0, 9, 0],\n",
       "         [0, 6, 9, 7, 4],\n",
       "         [7, 9, 4, 8, 2]]],\n",
       "\n",
       "\n",
       "       [[[7, 2, 8, 6, 5],\n",
       "         [2, 3, 3, 8, 7],\n",
       "         [9, 7, 3, 8, 0],\n",
       "         [7, 3, 0, 9, 0]],\n",
       "\n",
       "        [[1, 2, 6, 7, 3],\n",
       "         [8, 2, 9, 6, 5],\n",
       "         [1, 3, 0, 0, 8],\n",
       "         [6, 7, 8, 1, 0]],\n",
       "\n",
       "        [[8, 9, 5, 2, 2],\n",
       "         [2, 7, 7, 7, 6],\n",
       "         [0, 3, 2, 4, 1],\n",
       "         [5, 6, 3, 3, 0]]]])"
      ]
     },
     "execution_count": 255,
     "metadata": {},
     "output_type": "execute_result"
    }
   ],
   "source": [
    "a4 = np.random.randint(10, size=(2, 3, 4, 5))\n",
    "a4"
   ]
  },
  {
   "cell_type": "code",
   "execution_count": 256,
   "id": "0690b19b",
   "metadata": {},
   "outputs": [
    {
     "data": {
      "text/plain": [
       "((2, 3, 4, 5), 4, 120, dtype('int64'))"
      ]
     },
     "execution_count": 256,
     "metadata": {},
     "output_type": "execute_result"
    }
   ],
   "source": [
    "a4.shape, a4.ndim, a4.size, a4.dtype"
   ]
  },
  {
   "cell_type": "code",
   "execution_count": 257,
   "id": "9f659ac8",
   "metadata": {},
   "outputs": [
    {
     "data": {
      "text/plain": [
       "array([[[[2, 2, 6, 8, 9]],\n",
       "\n",
       "        [[0, 7, 2, 6, 7]],\n",
       "\n",
       "        [[9, 2, 7, 9, 2]]],\n",
       "\n",
       "\n",
       "       [[[7, 2, 8, 6, 5]],\n",
       "\n",
       "        [[1, 2, 6, 7, 3]],\n",
       "\n",
       "        [[8, 9, 5, 2, 2]]]])"
      ]
     },
     "execution_count": 257,
     "metadata": {},
     "output_type": "execute_result"
    }
   ],
   "source": [
    "a4[:, :, :1, :]"
   ]
  },
  {
   "cell_type": "code",
   "execution_count": 258,
   "id": "d8dd8ff8",
   "metadata": {},
   "outputs": [
    {
     "data": {
      "text/plain": [
       "array([7, 2, 8, 6, 5])"
      ]
     },
     "execution_count": 258,
     "metadata": {},
     "output_type": "execute_result"
    }
   ],
   "source": [
    "a4[1, 0, 0]"
   ]
  },
  {
   "cell_type": "markdown",
   "id": "7077ff8c",
   "metadata": {},
   "source": [
    "# 4.Manipulating and Computing on NumPy Arrays"
   ]
  },
  {
   "cell_type": "markdown",
   "id": "3dd23604",
   "metadata": {},
   "source": [
    "### Arithmetic"
   ]
  },
  {
   "cell_type": "code",
   "execution_count": 259,
   "id": "daa9bf04",
   "metadata": {},
   "outputs": [
    {
     "data": {
      "text/plain": [
       "array([1, 2, 3])"
      ]
     },
     "execution_count": 259,
     "metadata": {},
     "output_type": "execute_result"
    }
   ],
   "source": [
    "a1"
   ]
  },
  {
   "cell_type": "code",
   "execution_count": 260,
   "id": "9b5daf76",
   "metadata": {},
   "outputs": [
    {
     "data": {
      "text/plain": [
       "array([[1., 1., 1.],\n",
       "       [1., 1., 1.]])"
      ]
     },
     "execution_count": 260,
     "metadata": {},
     "output_type": "execute_result"
    }
   ],
   "source": [
    "ones"
   ]
  },
  {
   "cell_type": "code",
   "execution_count": 261,
   "id": "379b15b8",
   "metadata": {},
   "outputs": [
    {
     "data": {
      "text/plain": [
       "array([[2., 3., 4.],\n",
       "       [2., 3., 4.]])"
      ]
     },
     "execution_count": 261,
     "metadata": {},
     "output_type": "execute_result"
    }
   ],
   "source": [
    "a1 + ones"
   ]
  },
  {
   "cell_type": "code",
   "execution_count": 262,
   "id": "fae6a0f4",
   "metadata": {},
   "outputs": [
    {
     "data": {
      "text/plain": [
       "array([[0., 1., 2.],\n",
       "       [0., 1., 2.]])"
      ]
     },
     "execution_count": 262,
     "metadata": {},
     "output_type": "execute_result"
    }
   ],
   "source": [
    "a1 - ones"
   ]
  },
  {
   "cell_type": "code",
   "execution_count": 263,
   "id": "872e7670",
   "metadata": {},
   "outputs": [
    {
     "data": {
      "text/plain": [
       "array([[1., 2., 3.],\n",
       "       [1., 2., 3.]])"
      ]
     },
     "execution_count": 263,
     "metadata": {},
     "output_type": "execute_result"
    }
   ],
   "source": [
    "a1 * ones"
   ]
  },
  {
   "cell_type": "code",
   "execution_count": 264,
   "id": "c1170310",
   "metadata": {},
   "outputs": [
    {
     "data": {
      "text/plain": [
       "array([[1. , 2.3, 3. ],\n",
       "       [4. , 5. , 6. ]])"
      ]
     },
     "execution_count": 264,
     "metadata": {},
     "output_type": "execute_result"
    }
   ],
   "source": [
    "a2"
   ]
  },
  {
   "cell_type": "code",
   "execution_count": 265,
   "id": "d2e2e647",
   "metadata": {},
   "outputs": [
    {
     "data": {
      "text/plain": [
       "array([1, 2, 3])"
      ]
     },
     "execution_count": 265,
     "metadata": {},
     "output_type": "execute_result"
    }
   ],
   "source": [
    "a1"
   ]
  },
  {
   "cell_type": "code",
   "execution_count": 266,
   "id": "b64f3993",
   "metadata": {},
   "outputs": [
    {
     "data": {
      "text/plain": [
       "array([[2. , 4.3, 6. ],\n",
       "       [5. , 7. , 9. ]])"
      ]
     },
     "execution_count": 266,
     "metadata": {},
     "output_type": "execute_result"
    }
   ],
   "source": [
    "a1 + a2"
   ]
  },
  {
   "cell_type": "code",
   "execution_count": 267,
   "id": "a35a2856",
   "metadata": {},
   "outputs": [
    {
     "data": {
      "text/plain": [
       "array([[[ 1,  2,  3],\n",
       "        [ 4,  5,  6]],\n",
       "\n",
       "       [[ 7,  8,  9],\n",
       "        [10, 11, 12]]])"
      ]
     },
     "execution_count": 267,
     "metadata": {},
     "output_type": "execute_result"
    }
   ],
   "source": [
    "a3"
   ]
  },
  {
   "cell_type": "code",
   "execution_count": 268,
   "id": "0dd3a93e",
   "metadata": {},
   "outputs": [
    {
     "data": {
      "text/plain": [
       "array([[[ 1. ,  4.6,  9. ],\n",
       "        [16. , 25. , 36. ]],\n",
       "\n",
       "       [[ 7. , 18.4, 27. ],\n",
       "        [40. , 55. , 72. ]]])"
      ]
     },
     "execution_count": 268,
     "metadata": {},
     "output_type": "execute_result"
    }
   ],
   "source": [
    "a2 * a3"
   ]
  },
  {
   "cell_type": "code",
   "execution_count": 269,
   "id": "6b31924d",
   "metadata": {},
   "outputs": [
    {
     "data": {
      "text/plain": [
       "array([[[[2, 2, 6, 8, 9],\n",
       "         [3, 4, 5, 5, 7],\n",
       "         [9, 2, 6, 9, 5],\n",
       "         [1, 6, 4, 5, 8]],\n",
       "\n",
       "        [[0, 7, 2, 6, 7],\n",
       "         [4, 8, 9, 6, 4],\n",
       "         [5, 2, 2, 6, 6],\n",
       "         [6, 7, 9, 6, 0]],\n",
       "\n",
       "        [[9, 2, 7, 9, 2],\n",
       "         [6, 3, 0, 9, 0],\n",
       "         [0, 6, 9, 7, 4],\n",
       "         [7, 9, 4, 8, 2]]],\n",
       "\n",
       "\n",
       "       [[[7, 2, 8, 6, 5],\n",
       "         [2, 3, 3, 8, 7],\n",
       "         [9, 7, 3, 8, 0],\n",
       "         [7, 3, 0, 9, 0]],\n",
       "\n",
       "        [[1, 2, 6, 7, 3],\n",
       "         [8, 2, 9, 6, 5],\n",
       "         [1, 3, 0, 0, 8],\n",
       "         [6, 7, 8, 1, 0]],\n",
       "\n",
       "        [[8, 9, 5, 2, 2],\n",
       "         [2, 7, 7, 7, 6],\n",
       "         [0, 3, 2, 4, 1],\n",
       "         [5, 6, 3, 3, 0]]]])"
      ]
     },
     "execution_count": 269,
     "metadata": {},
     "output_type": "execute_result"
    }
   ],
   "source": [
    "a4"
   ]
  },
  {
   "cell_type": "code",
   "execution_count": 270,
   "id": "fc47665a",
   "metadata": {},
   "outputs": [],
   "source": [
    "# a2 + a4 error"
   ]
  },
  {
   "cell_type": "code",
   "execution_count": 271,
   "id": "d05dafa5",
   "metadata": {},
   "outputs": [
    {
     "data": {
      "text/plain": [
       "array([[1. , 2.3, 3. ],\n",
       "       [4. , 5. , 6. ]])"
      ]
     },
     "execution_count": 271,
     "metadata": {},
     "output_type": "execute_result"
    }
   ],
   "source": [
    "a2"
   ]
  },
  {
   "cell_type": "code",
   "execution_count": 272,
   "id": "68ba13c7",
   "metadata": {},
   "outputs": [
    {
     "data": {
      "text/plain": [
       "array([[[[1. ]],\n",
       "\n",
       "        [[2.3]],\n",
       "\n",
       "        [[3. ]]],\n",
       "\n",
       "\n",
       "       [[[4. ]],\n",
       "\n",
       "        [[5. ]],\n",
       "\n",
       "        [[6. ]]]])"
      ]
     },
     "execution_count": 272,
     "metadata": {},
     "output_type": "execute_result"
    }
   ],
   "source": [
    "a2_Fix = a2[:, :, np.newaxis, np.newaxis]\n",
    "a2_Fix"
   ]
  },
  {
   "cell_type": "code",
   "execution_count": 273,
   "id": "14554e7b",
   "metadata": {},
   "outputs": [
    {
     "data": {
      "text/plain": [
       "array([[[[ 3. ,  3. ,  7. ,  9. , 10. ],\n",
       "         [ 4. ,  5. ,  6. ,  6. ,  8. ],\n",
       "         [10. ,  3. ,  7. , 10. ,  6. ],\n",
       "         [ 2. ,  7. ,  5. ,  6. ,  9. ]],\n",
       "\n",
       "        [[ 2.3,  9.3,  4.3,  8.3,  9.3],\n",
       "         [ 6.3, 10.3, 11.3,  8.3,  6.3],\n",
       "         [ 7.3,  4.3,  4.3,  8.3,  8.3],\n",
       "         [ 8.3,  9.3, 11.3,  8.3,  2.3]],\n",
       "\n",
       "        [[12. ,  5. , 10. , 12. ,  5. ],\n",
       "         [ 9. ,  6. ,  3. , 12. ,  3. ],\n",
       "         [ 3. ,  9. , 12. , 10. ,  7. ],\n",
       "         [10. , 12. ,  7. , 11. ,  5. ]]],\n",
       "\n",
       "\n",
       "       [[[11. ,  6. , 12. , 10. ,  9. ],\n",
       "         [ 6. ,  7. ,  7. , 12. , 11. ],\n",
       "         [13. , 11. ,  7. , 12. ,  4. ],\n",
       "         [11. ,  7. ,  4. , 13. ,  4. ]],\n",
       "\n",
       "        [[ 6. ,  7. , 11. , 12. ,  8. ],\n",
       "         [13. ,  7. , 14. , 11. , 10. ],\n",
       "         [ 6. ,  8. ,  5. ,  5. , 13. ],\n",
       "         [11. , 12. , 13. ,  6. ,  5. ]],\n",
       "\n",
       "        [[14. , 15. , 11. ,  8. ,  8. ],\n",
       "         [ 8. , 13. , 13. , 13. , 12. ],\n",
       "         [ 6. ,  9. ,  8. , 10. ,  7. ],\n",
       "         [11. , 12. ,  9. ,  9. ,  6. ]]]])"
      ]
     },
     "execution_count": 273,
     "metadata": {},
     "output_type": "execute_result"
    }
   ],
   "source": [
    "a2_Fix + a4"
   ]
  },
  {
   "cell_type": "code",
   "execution_count": 274,
   "id": "5188e77f",
   "metadata": {},
   "outputs": [
    {
     "data": {
      "text/plain": [
       "array([[1., 2., 3.],\n",
       "       [1., 2., 3.]])"
      ]
     },
     "execution_count": 274,
     "metadata": {},
     "output_type": "execute_result"
    }
   ],
   "source": [
    "a1 / ones"
   ]
  },
  {
   "cell_type": "code",
   "execution_count": 275,
   "id": "55143578",
   "metadata": {},
   "outputs": [
    {
     "data": {
      "text/plain": [
       "array([[1.        , 0.86956522, 1.        ],\n",
       "       [0.25      , 0.4       , 0.5       ]])"
      ]
     },
     "execution_count": 275,
     "metadata": {},
     "output_type": "execute_result"
    }
   ],
   "source": [
    "a1 / a2"
   ]
  },
  {
   "cell_type": "code",
   "execution_count": 276,
   "id": "fd8ff477",
   "metadata": {},
   "outputs": [
    {
     "data": {
      "text/plain": [
       "array([[1., 0., 1.],\n",
       "       [0., 0., 0.]])"
      ]
     },
     "execution_count": 276,
     "metadata": {},
     "output_type": "execute_result"
    }
   ],
   "source": [
    "a1 // a2 # Floor division removes the decimals (Rounds down)"
   ]
  },
  {
   "cell_type": "code",
   "execution_count": 277,
   "id": "1483d554",
   "metadata": {},
   "outputs": [
    {
     "data": {
      "text/plain": [
       "array([[2., 3., 4.],\n",
       "       [2., 3., 4.]])"
      ]
     },
     "execution_count": 277,
     "metadata": {},
     "output_type": "execute_result"
    }
   ],
   "source": [
    "np.add(a1, ones)"
   ]
  },
  {
   "cell_type": "code",
   "execution_count": 278,
   "id": "bd8ca1be",
   "metadata": {},
   "outputs": [
    {
     "data": {
      "text/plain": [
       "array([ 2.71828183,  7.3890561 , 20.08553692])"
      ]
     },
     "execution_count": 278,
     "metadata": {},
     "output_type": "execute_result"
    }
   ],
   "source": [
    "np.exp(a1)"
   ]
  },
  {
   "cell_type": "code",
   "execution_count": null,
   "id": "6f8420aa",
   "metadata": {},
   "outputs": [],
   "source": []
  }
 ],
 "metadata": {
  "kernelspec": {
   "display_name": "Python 3",
   "language": "python",
   "name": "python3"
  },
  "language_info": {
   "codemirror_mode": {
    "name": "ipython",
    "version": 3
   },
   "file_extension": ".py",
   "mimetype": "text/x-python",
   "name": "python",
   "nbconvert_exporter": "python",
   "pygments_lexer": "ipython3",
   "version": "3.13.9"
  }
 },
 "nbformat": 4,
 "nbformat_minor": 5
}
