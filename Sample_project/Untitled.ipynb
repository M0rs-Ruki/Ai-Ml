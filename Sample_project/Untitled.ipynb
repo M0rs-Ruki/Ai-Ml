{
 "cells": [
  {
   "cell_type": "code",
   "execution_count": 4,
   "id": "128ff9a5-2669-4ca0-8f86-3d1c443c1a4f",
   "metadata": {},
   "outputs": [
    {
     "name": "stdout",
     "output_type": "stream",
     "text": [
      "Hello jee i'm back \n"
     ]
    }
   ],
   "source": [
    "print(\"Hello jee i'm back \")"
   ]
  },
  {
   "cell_type": "code",
   "execution_count": 1,
   "id": "d001c437-9028-442a-956a-1b9efa58af5a",
   "metadata": {},
   "outputs": [],
   "source": [
    "import pandas as pd\n",
    "import numpy as np\n",
    "import matplotlib.pyplot as plt\n",
    "import sklearn"
   ]
  },
  {
   "cell_type": "code",
   "execution_count": null,
   "id": "9359f912-999b-489c-bfed-911388bc89d3",
   "metadata": {},
   "outputs": [],
   "source": []
  }
 ],
 "metadata": {
  "kernelspec": {
   "display_name": "Python 3",
   "language": "python",
   "name": "python3"
  },
  "language_info": {
   "codemirror_mode": {
    "name": "ipython",
    "version": 3
   },
   "file_extension": ".py",
   "mimetype": "text/x-python",
   "name": "python",
   "nbconvert_exporter": "python",
   "pygments_lexer": "ipython3",
   "version": "3.13.7"
  }
 },
 "nbformat": 4,
 "nbformat_minor": 5
}
